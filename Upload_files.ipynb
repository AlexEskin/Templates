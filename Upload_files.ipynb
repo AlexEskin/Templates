{
  "nbformat": 4,
  "nbformat_minor": 0,
  "metadata": {
    "colab": {
      "name": "Colab's New Code Editor",
      "provenance": [],
      "collapsed_sections": [],
      "include_colab_link": true
    },
    "kernelspec": {
      "name": "python3",
      "display_name": "Python 3"
    },
    "accelerator": "TPU"
  },
  "cells": [
    {
      "cell_type": "markdown",
      "metadata": {
        "id": "view-in-github",
        "colab_type": "text"
      },
      "source": [
        "<a href=\"https://colab.research.google.com/github/AlexEskin/Templates/blob/master/Upload_files.ipynb\" target=\"_parent\"><img src=\"https://colab.research.google.com/assets/colab-badge.svg\" alt=\"Open In Colab\"/></a>"
      ]
    },
    {
      "cell_type": "markdown",
      "metadata": {
        "id": "sQyoZ24MK0zv",
        "colab_type": "text"
      },
      "source": [
        "1) Init directory tree"
      ]
    },
    {
      "cell_type": "code",
      "metadata": {
        "id": "6gEIynKj4g5h",
        "colab_type": "code",
        "colab": {}
      },
      "source": [
        "!rm -rf crops_train\n",
        "!rm -rf crops_test\n",
        "!rm -rf maps_resized\n",
        "!rm -rf examples\n",
        "\n",
        "!mkdir maps_resized\n",
        "!mkdir crops_train\n",
        "!mkdir crops_test\n",
        "!mkdir examples"
      ],
      "execution_count": 0,
      "outputs": []
    },
    {
      "cell_type": "code",
      "metadata": {
        "id": "ozSdgElNISYA",
        "colab_type": "code",
        "colab": {}
      },
      "source": [
        "import os\n",
        "import cv2\n",
        "import numpy as np\n",
        "import os\n",
        "from google.colab import files\n",
        "\n",
        "WIDTH = 256\n",
        "HEIGHT = 256\n",
        "SOURCE = 'MapsExample'"
      ],
      "execution_count": 0,
      "outputs": []
    },
    {
      "cell_type": "code",
      "metadata": {
        "id": "yZlqcjTYIXbv",
        "colab_type": "code",
        "colab": {}
      },
      "source": [
        "def resizeImages():\n",
        "    path_a = SOURCE\n",
        "    path_b = 'maps_resized'\n",
        "\n",
        "    filenames = []\n",
        "    for r, d, f in os.walk(path_a):\n",
        "        for file in f:\n",
        "            if \".png\" in file:\n",
        "               filenames.append(file)\n",
        "    print(filenames)\n",
        "    images = []\n",
        "    minSizeX = None\n",
        "    minSizeY = None\n",
        "\n",
        "    for filename in filenames:\n",
        "        f_a = os.path.join(path_a, filename)\n",
        "        print(f_a)\n",
        "        im_a = cv2.imread(f_a)\n",
        "        if minSizeX != None:\n",
        "            minSizeX = min(minSizeX,im_a.shape[0])\n",
        "        else:\n",
        "            minSizeX = im_a.shape[0]\n",
        "        if minSizeY != None:\n",
        "            minSizeY = min(minSizeY,im_a.shape[1])          \n",
        "        else:\n",
        "            minSizeY = im_a.shape[1]\n",
        "    print(minSizeX,minSizeY)\n",
        "    for filename in filenames:\n",
        "        f_a = os.path.join(path_a, filename)\n",
        "        f_b = os.path.join(path_b, filename)\n",
        "\n",
        "        im_a = cv2.imread(f_a)\n",
        "        crop_img = im_a[0:minSizeX, 0:minSizeY]\n",
        "        cv2.imwrite(f_b,crop_img)\n"
      ],
      "execution_count": 0,
      "outputs": []
    },
    {
      "cell_type": "code",
      "metadata": {
        "id": "Rw3jjiCxIbpH",
        "colab_type": "code",
        "colab": {}
      },
      "source": [
        "def generateCrops():\n",
        "\tpath_a = 'maps_resized'\n",
        "\tpath_b = 'crops_train'\n",
        "\tpath_c = 'crops_test'\n",
        "\texamples = 'examples'\n",
        "\tfilenames = []\n",
        "\tfor r, d, f in os.walk(path_a):\n",
        "\t\tfor file in f:\n",
        "\t\t\tfilenames.append(file)\n",
        "\tcounter = 0\n",
        "\tfor filename in filenames:\n",
        "\t\tprint(filename)\n",
        "\t\tf_a = os.path.join(path_a, filename)\n",
        "\t\tim_a = cv2.imread(f_a)\n",
        "\t\tshape = im_a.shape\n",
        "\t\texamples_counter = 0\n",
        "\t\tfor i in range(0,shape[0]-WIDTH-1,64):\n",
        "\t\t\tfor j in range(0,shape[1]-HEIGHT-1,64):\n",
        "\t\t\t\tpath = path_b\n",
        "\t\t\t\tif not counter%7:\n",
        "\t\t\t\t\tpath = path_c\t\t\t\t\n",
        "\t\t\t\tsubmap = os.path.join(path,str(counter)+\".png\")\n",
        "\t\t\t\tsubmap_image = im_a[i:i+HEIGHT,j:j+WIDTH]\n",
        "\t\t\t\tcv2.imwrite(submap,submap_image)\n",
        "\t\t\t\tif examples_counter < 32:\n",
        "\t\t\t\t\texpath = os.path.join(examples, filename)\n",
        "\t\t\t\t\ttry:\n",
        "\t\t\t\t\t\tif not examples_counter:\n",
        "\t\t\t\t\t\t\tos.mkdir(expath)\n",
        "\t\t\t\t\texcept Exception as e:\n",
        "\t\t\t\t\t\tpass\n",
        "\t\t\t\t\texmap = os.path.join(expath,str(counter)+\".png\")\n",
        "\t\t\t\t\tcv2.imwrite(exmap,submap_image)\n",
        "\t\t\t\t\texamples_counter = examples_counter + 1\n",
        "\t\t\t\tcounter += 1\n",
        "\t\tprint(counter)"
      ],
      "execution_count": 0,
      "outputs": []
    },
    {
      "cell_type": "markdown",
      "metadata": {
        "id": "NnXzMeSGK-um",
        "colab_type": "text"
      },
      "source": [
        "Upload files"
      ]
    },
    {
      "cell_type": "code",
      "metadata": {
        "id": "fsPZThBbTSrU",
        "colab_type": "code",
        "colab": {}
      },
      "source": [
        "!rm -rf MapsExample"
      ],
      "execution_count": 0,
      "outputs": []
    },
    {
      "cell_type": "code",
      "metadata": {
        "id": "Id0mv4FHJfgX",
        "colab_type": "code",
        "colab": {}
      },
      "source": [
        "!git clone https://github.com/AlexEskin/MapsExample.git"
      ],
      "execution_count": 0,
      "outputs": []
    },
    {
      "cell_type": "code",
      "metadata": {
        "id": "223H4w2ZTc92",
        "colab_type": "code",
        "colab": {}
      },
      "source": [
        "!ls MapsExample"
      ],
      "execution_count": 0,
      "outputs": []
    },
    {
      "cell_type": "code",
      "metadata": {
        "id": "8UkiGIQmThTM",
        "colab_type": "code",
        "colab": {}
      },
      "source": [
        "resizeImages()\n",
        "generateCrops()"
      ],
      "execution_count": 0,
      "outputs": []
    }
  ]
}