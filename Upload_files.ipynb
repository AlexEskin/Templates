{
  "nbformat": 4,
  "nbformat_minor": 0,
  "metadata": {
    "colab": {
      "name": "Colab's New Code Editor",
      "provenance": [],
      "collapsed_sections": [],
      "include_colab_link": true
    },
    "kernelspec": {
      "display_name": "Python 3",
      "name": "python3"
    }
  },
  "cells": [
    {
      "cell_type": "markdown",
      "metadata": {
        "id": "view-in-github",
        "colab_type": "text"
      },
      "source": [
        "<a href=\"https://colab.research.google.com/github/AlexEskin/Templates/blob/master/Upload_files.ipynb\" target=\"_parent\"><img src=\"https://colab.research.google.com/assets/colab-badge.svg\" alt=\"Open In Colab\"/></a>"
      ]
    },
    {
      "cell_type": "markdown",
      "metadata": {
        "id": "sQyoZ24MK0zv",
        "colab_type": "text"
      },
      "source": [
        "1) Init directory tree"
      ]
    },
    {
      "cell_type": "code",
      "metadata": {
        "id": "6gEIynKj4g5h",
        "colab_type": "code",
        "colab": {}
      },
      "source": [
        "!mkdir maps_resized\n",
        "!mkdir crops_train\n",
        "!mkdir crops_test\n",
        "!mkdir examples"
      ],
      "execution_count": 0,
      "outputs": []
    },
    {
      "cell_type": "code",
      "metadata": {
        "id": "ozSdgElNISYA",
        "colab_type": "code",
        "colab": {}
      },
      "source": [
        "import os\n",
        "import cv2\n",
        "import numpy as np\n",
        "import os\n",
        "from google.colab import files\n",
        "\n",
        "WIDTH = 160\n",
        "HEIGHT = 160\n",
        "SOURCE = 'MapsExample'"
      ],
      "execution_count": 0,
      "outputs": []
    },
    {
      "cell_type": "code",
      "metadata": {
        "id": "yZlqcjTYIXbv",
        "colab_type": "code",
        "colab": {}
      },
      "source": [
        "def resizeImages():\n",
        "    path_a = SOURCE\n",
        "    path_b = 'maps_resized'\n",
        "\n",
        "    filenames = []\n",
        "    for r, d, f in os.walk(path_a):\n",
        "        for file in f:\n",
        "            if \".png\" in file:\n",
        "               filenames.append(file)\n",
        "    print(filenames)\n",
        "    images = []\n",
        "    minSizeX = None\n",
        "    minSizeY = None\n",
        "\n",
        "    for filename in filenames:\n",
        "        f_a = os.path.join(path_a, filename)\n",
        "        print(f_a)\n",
        "        im_a = cv2.imread(f_a)\n",
        "        if minSizeX != None:\n",
        "            minSizeX = min(minSizeX,im_a.shape[0])\n",
        "        else:\n",
        "            minSizeX = im_a.shape[0]\n",
        "        if minSizeY != None:\n",
        "            minSizeY = min(minSizeY,im_a.shape[1])          \n",
        "        else:\n",
        "            minSizeY = im_a.shape[1]\n",
        "    print(minSizeX,minSizeY)\n",
        "    for filename in filenames:\n",
        "        f_a = os.path.join(path_a, filename)\n",
        "        f_b = os.path.join(path_b, filename)\n",
        "\n",
        "        im_a = cv2.imread(f_a)\n",
        "        crop_img = im_a[0:minSizeX, 0:minSizeY]\n",
        "        cv2.imwrite(f_b,crop_img)\n"
      ],
      "execution_count": 0,
      "outputs": []
    },
    {
      "cell_type": "code",
      "metadata": {
        "id": "Rw3jjiCxIbpH",
        "colab_type": "code",
        "colab": {}
      },
      "source": [
        "def generateCrops():\n",
        "\tpath_a = 'maps_resized'\n",
        "\tpath_b = 'crops_train'\n",
        "\tpath_c = 'crops_test'\n",
        "\texamples = 'examples'\n",
        "\tfilenames = []\n",
        "\tfor r, d, f in os.walk(path_a):\n",
        "\t\tfor file in f:\n",
        "\t\t\tfilenames.append(file)\n",
        "\tcounter = 0\n",
        "\tfor filename in filenames:\n",
        "\t\tprint(filename)\n",
        "\t\tf_a = os.path.join(path_a, filename)\n",
        "\t\tim_a = cv2.imread(f_a)\n",
        "\t\tshape = im_a.shape\n",
        "\t\texamples_counter = 0\n",
        "\t\tfor i in range(0,shape[0]-WIDTH-1,64):\n",
        "\t\t\tfor j in range(0,shape[1]-HEIGHT-1,64):\n",
        "\t\t\t\tpath = path_b\n",
        "\t\t\t\tif not counter%7:\n",
        "\t\t\t\t\tpath = path_c\t\t\t\t\n",
        "\t\t\t\tsubmap = os.path.join(path,str(counter)+\".png\")\n",
        "\t\t\t\tsubmap_image = im_a[i:i+HEIGHT,j:j+WIDTH]\n",
        "\t\t\t\tcv2.imwrite(submap,submap_image)\n",
        "\t\t\t\tif examples_counter < 32:\n",
        "\t\t\t\t\texpath = os.path.join(examples, filename)\n",
        "\t\t\t\t\ttry:\n",
        "\t\t\t\t\t\tif not examples_counter:\n",
        "\t\t\t\t\t\t\tos.mkdir(expath)\n",
        "\t\t\t\t\texcept Exception as e:\n",
        "\t\t\t\t\t\tpass\n",
        "\t\t\t\t\texmap = os.path.join(expath,str(counter)+\".png\")\n",
        "\t\t\t\t\tcv2.imwrite(exmap,submap_image)\n",
        "\t\t\t\t\texamples_counter = examples_counter + 1\n",
        "\t\t\t\tcounter += 1\n",
        "\t\tprint(counter)"
      ],
      "execution_count": 0,
      "outputs": []
    },
    {
      "cell_type": "markdown",
      "metadata": {
        "id": "NnXzMeSGK-um",
        "colab_type": "text"
      },
      "source": [
        "Upload files"
      ]
    },
    {
      "cell_type": "code",
      "metadata": {
        "id": "fsPZThBbTSrU",
        "colab_type": "code",
        "colab": {}
      },
      "source": [
        "!rm -rf MapsExample"
      ],
      "execution_count": 0,
      "outputs": []
    },
    {
      "cell_type": "code",
      "metadata": {
        "id": "Id0mv4FHJfgX",
        "colab_type": "code",
        "outputId": "1edf7d76-43bd-4e80-8e51-05c4495af31a",
        "colab": {
          "base_uri": "https://localhost:8080/",
          "height": 119
        }
      },
      "source": [
        "!git clone https://github.com/AlexEskin/MapsExample.git"
      ],
      "execution_count": 16,
      "outputs": [
        {
          "output_type": "stream",
          "text": [
            "Cloning into 'MapsExample'...\n",
            "remote: Enumerating objects: 55, done.\u001b[K\n",
            "remote: Counting objects:   1% (1/55)\u001b[K\rremote: Counting objects:   3% (2/55)\u001b[K\rremote: Counting objects:   5% (3/55)\u001b[K\rremote: Counting objects:   7% (4/55)\u001b[K\rremote: Counting objects:   9% (5/55)\u001b[K\rremote: Counting objects:  10% (6/55)\u001b[K\rremote: Counting objects:  12% (7/55)\u001b[K\rremote: Counting objects:  14% (8/55)\u001b[K\rremote: Counting objects:  16% (9/55)\u001b[K\rremote: Counting objects:  18% (10/55)\u001b[K\rremote: Counting objects:  20% (11/55)\u001b[K\rremote: Counting objects:  21% (12/55)\u001b[K\rremote: Counting objects:  23% (13/55)\u001b[K\rremote: Counting objects:  25% (14/55)\u001b[K\rremote: Counting objects:  27% (15/55)\u001b[K\rremote: Counting objects:  29% (16/55)\u001b[K\rremote: Counting objects:  30% (17/55)\u001b[K\rremote: Counting objects:  32% (18/55)\u001b[K\rremote: Counting objects:  34% (19/55)\u001b[K\rremote: Counting objects:  36% (20/55)\u001b[K\rremote: Counting objects:  38% (21/55)\u001b[K\rremote: Counting objects:  40% (22/55)\u001b[K\rremote: Counting objects:  41% (23/55)\u001b[K\rremote: Counting objects:  43% (24/55)\u001b[K\rremote: Counting objects:  45% (25/55)\u001b[K\rremote: Counting objects:  47% (26/55)\u001b[K\rremote: Counting objects:  49% (27/55)\u001b[K\rremote: Counting objects:  50% (28/55)\u001b[K\rremote: Counting objects:  52% (29/55)\u001b[K\rremote: Counting objects:  54% (30/55)\u001b[K\rremote: Counting objects:  56% (31/55)\u001b[K\rremote: Counting objects:  58% (32/55)\u001b[K\rremote: Counting objects:  60% (33/55)\u001b[K\rremote: Counting objects:  61% (34/55)\u001b[K\rremote: Counting objects:  63% (35/55)\u001b[K\rremote: Counting objects:  65% (36/55)\u001b[K\rremote: Counting objects:  67% (37/55)\u001b[K\rremote: Counting objects:  69% (38/55)\u001b[K\rremote: Counting objects:  70% (39/55)\u001b[K\rremote: Counting objects:  72% (40/55)\u001b[K\rremote: Counting objects:  74% (41/55)\u001b[K\rremote: Counting objects:  76% (42/55)\u001b[K\rremote: Counting objects:  78% (43/55)\u001b[K\rremote: Counting objects:  80% (44/55)\u001b[K\rremote: Counting objects:  81% (45/55)\u001b[K\rremote: Counting objects:  83% (46/55)\u001b[K\rremote: Counting objects:  85% (47/55)\u001b[K\rremote: Counting objects:  87% (48/55)\u001b[K\rremote: Counting objects:  89% (49/55)\u001b[K\rremote: Counting objects:  90% (50/55)\u001b[K\rremote: Counting objects:  92% (51/55)\u001b[K\rremote: Counting objects:  94% (52/55)\u001b[K\rremote: Counting objects:  96% (53/55)\u001b[K\rremote: Counting objects:  98% (54/55)\u001b[K\rremote: Counting objects: 100% (55/55)\u001b[K\rremote: Counting objects: 100% (55/55), done.\u001b[K\n",
            "remote: Compressing objects: 100% (53/53), done.\u001b[K\n",
            "remote: Total 55 (delta 0), reused 55 (delta 0), pack-reused 0\u001b[K\n",
            "Unpacking objects: 100% (55/55), done.\n"
          ],
          "name": "stdout"
        }
      ]
    },
    {
      "cell_type": "code",
      "metadata": {
        "id": "223H4w2ZTc92",
        "colab_type": "code",
        "colab": {
          "base_uri": "https://localhost:8080/",
          "height": 170
        },
        "outputId": "c23e639e-a326-406d-c5f3-2f1844935cd0"
      },
      "source": [
        "!ls MapsExample"
      ],
      "execution_count": 17,
      "outputs": [
        {
          "output_type": "stream",
          "text": [
            "map_10.png  map_19.png\tmap_27.png  map_35.png\tmap_43.png  map_5.png\n",
            "map_11.png  map_1.png\tmap_28.png  map_36.png\tmap_44.png  map_6.png\n",
            "map_12.png  map_20.png\tmap_29.png  map_37.png\tmap_45.png  map_7.png\n",
            "map_13.png  map_21.png\tmap_2.png   map_38.png\tmap_46.png  map_8.png\n",
            "map_14.png  map_22.png\tmap_30.png  map_39.png\tmap_47.png  map_9.png\n",
            "map_15.png  map_23.png\tmap_31.png  map_3.png\tmap_48.png  README.md\n",
            "map_16.png  map_24.png\tmap_32.png  map_40.png\tmap_49.png\n",
            "map_17.png  map_25.png\tmap_33.png  map_41.png\tmap_4.png\n",
            "map_18.png  map_26.png\tmap_34.png  map_42.png\tmap_50.png\n"
          ],
          "name": "stdout"
        }
      ]
    },
    {
      "cell_type": "code",
      "metadata": {
        "id": "8UkiGIQmThTM",
        "colab_type": "code",
        "colab": {
          "base_uri": "https://localhost:8080/",
          "height": 1000
        },
        "outputId": "c62a0f30-425c-47e8-e362-cfff61e29905"
      },
      "source": [
        "resizeImages()\n",
        "generateCrops()"
      ],
      "execution_count": 32,
      "outputs": [
        {
          "output_type": "stream",
          "text": [
            "['map_50.png', 'map_31.png', 'map_29.png', 'map_23.png', 'map_12.png', 'map_14.png', 'map_1.png', 'map_21.png', 'map_34.png', 'map_2.png', 'map_42.png', 'map_17.png', 'map_4.png', 'map_7.png', 'map_37.png', 'map_24.png', 'map_18.png', 'map_45.png', 'map_16.png', 'map_11.png', 'map_30.png', 'map_10.png', 'map_48.png', 'map_44.png', 'map_39.png', 'map_36.png', 'map_22.png', 'map_13.png', 'map_40.png', 'map_3.png', 'map_28.png', 'map_5.png', 'map_19.png', 'map_25.png', 'map_38.png', 'map_20.png', 'map_49.png', 'map_33.png', 'map_8.png', 'map_46.png', 'map_6.png', 'map_32.png', 'map_41.png', 'map_26.png', 'map_43.png', 'map_35.png', 'map_9.png', 'map_47.png', 'map_27.png', 'map_15.png']\n",
            "MapsExample/map_50.png\n",
            "MapsExample/map_31.png\n",
            "MapsExample/map_29.png\n",
            "MapsExample/map_23.png\n",
            "MapsExample/map_12.png\n",
            "MapsExample/map_14.png\n",
            "MapsExample/map_1.png\n",
            "MapsExample/map_21.png\n",
            "MapsExample/map_34.png\n",
            "MapsExample/map_2.png\n",
            "MapsExample/map_42.png\n",
            "MapsExample/map_17.png\n",
            "MapsExample/map_4.png\n",
            "MapsExample/map_7.png\n",
            "MapsExample/map_37.png\n",
            "MapsExample/map_24.png\n",
            "MapsExample/map_18.png\n",
            "MapsExample/map_45.png\n",
            "MapsExample/map_16.png\n",
            "MapsExample/map_11.png\n",
            "MapsExample/map_30.png\n",
            "MapsExample/map_10.png\n",
            "MapsExample/map_48.png\n",
            "MapsExample/map_44.png\n",
            "MapsExample/map_39.png\n",
            "MapsExample/map_36.png\n",
            "MapsExample/map_22.png\n",
            "MapsExample/map_13.png\n",
            "MapsExample/map_40.png\n",
            "MapsExample/map_3.png\n",
            "MapsExample/map_28.png\n",
            "MapsExample/map_5.png\n",
            "MapsExample/map_19.png\n",
            "MapsExample/map_25.png\n",
            "MapsExample/map_38.png\n",
            "MapsExample/map_20.png\n",
            "MapsExample/map_49.png\n",
            "MapsExample/map_33.png\n",
            "MapsExample/map_8.png\n",
            "MapsExample/map_46.png\n",
            "MapsExample/map_6.png\n",
            "MapsExample/map_32.png\n",
            "MapsExample/map_41.png\n",
            "MapsExample/map_26.png\n",
            "MapsExample/map_43.png\n",
            "MapsExample/map_35.png\n",
            "MapsExample/map_9.png\n",
            "MapsExample/map_47.png\n",
            "MapsExample/map_27.png\n",
            "MapsExample/map_15.png\n",
            "831 1461\n",
            "map_50.png\n",
            "231\n",
            "map_31.png\n",
            "462\n",
            "map_29.png\n",
            "693\n",
            "map_23.png\n",
            "924\n",
            "map_12.png\n",
            "1155\n",
            "map_14.png\n",
            "1386\n",
            "map_1.png\n",
            "1617\n",
            "map_21.png\n",
            "1848\n",
            "map_34.png\n",
            "2079\n",
            "map_2.png\n",
            "2310\n",
            "map_42.png\n",
            "2541\n",
            "map_17.png\n",
            "2772\n",
            "map_4.png\n",
            "3003\n",
            "map_7.png\n",
            "3234\n",
            "map_37.png\n",
            "3465\n",
            "map_24.png\n",
            "3696\n",
            "map_18.png\n",
            "3927\n",
            "map_45.png\n",
            "4158\n",
            "map_16.png\n",
            "4389\n",
            "map_11.png\n",
            "4620\n",
            "map_30.png\n",
            "4851\n",
            "map_10.png\n",
            "5082\n",
            "map_48.png\n",
            "5313\n",
            "map_44.png\n",
            "5544\n",
            "map_39.png\n",
            "5775\n",
            "map_36.png\n",
            "6006\n",
            "map_22.png\n",
            "6237\n",
            "map_13.png\n",
            "6468\n",
            "map_40.png\n",
            "6699\n",
            "map_3.png\n",
            "6930\n",
            "map_28.png\n",
            "7161\n",
            "map_5.png\n",
            "7392\n",
            "map_19.png\n",
            "7623\n",
            "map_25.png\n",
            "7854\n",
            "map_38.png\n",
            "8085\n",
            "map_20.png\n",
            "8316\n",
            "map_49.png\n",
            "8547\n",
            "map_33.png\n",
            "8778\n",
            "map_8.png\n",
            "9009\n",
            "map_46.png\n",
            "9240\n",
            "map_6.png\n",
            "9471\n",
            "map_32.png\n",
            "9702\n",
            "map_41.png\n",
            "9933\n",
            "map_26.png\n",
            "10164\n",
            "map_43.png\n",
            "10395\n",
            "map_35.png\n",
            "10626\n",
            "map_9.png\n",
            "10857\n",
            "map_47.png\n",
            "11088\n",
            "map_27.png\n",
            "11319\n",
            "map_15.png\n",
            "11550\n"
          ],
          "name": "stdout"
        }
      ]
    }
  ]
}