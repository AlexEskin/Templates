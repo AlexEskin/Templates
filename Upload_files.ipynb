{
  "nbformat": 4,
  "nbformat_minor": 0,
  "metadata": {
    "colab": {
      "name": "Colab's New Code Editor",
      "provenance": [],
      "collapsed_sections": [],
      "include_colab_link": true
    },
    "kernelspec": {
      "display_name": "Python 3",
      "name": "python3"
    }
  },
  "cells": [
    {
      "cell_type": "markdown",
      "metadata": {
        "id": "view-in-github",
        "colab_type": "text"
      },
      "source": [
        "<a href=\"https://colab.research.google.com/github/AlexEskin/Templates/blob/master/Upload_files.ipynb\" target=\"_parent\"><img src=\"https://colab.research.google.com/assets/colab-badge.svg\" alt=\"Open In Colab\"/></a>"
      ]
    },
    {
      "cell_type": "markdown",
      "metadata": {
        "id": "sQyoZ24MK0zv",
        "colab_type": "text"
      },
      "source": [
        "1) Init directory tree"
      ]
    },
    {
      "cell_type": "code",
      "metadata": {
        "id": "6gEIynKj4g5h",
        "colab_type": "code",
        "colab": {}
      },
      "source": [
        "!mkdir maps_resized\n",
        "!mkdir crops_train\n",
        "!mkdir crops_test\n",
        "!mkdir examples"
      ],
      "execution_count": 0,
      "outputs": []
    },
    {
      "cell_type": "code",
      "metadata": {
        "id": "ozSdgElNISYA",
        "colab_type": "code",
        "colab": {}
      },
      "source": [
        "import os\n",
        "import cv2\n",
        "import numpy as np\n",
        "import os\n",
        "from google.colab import files\n",
        "\n",
        "WIDTH = 160\n",
        "HEIGHT = 160\n",
        "SOURCE = 'MapsExample'"
      ],
      "execution_count": 0,
      "outputs": []
    },
    {
      "cell_type": "code",
      "metadata": {
        "id": "yZlqcjTYIXbv",
        "colab_type": "code",
        "colab": {}
      },
      "source": [
        "def resizeImages():\n",
        "\tpath_a = SOURCE\n",
        "\tpath_b = 'maps_resized'\n",
        "\tfilenames = []\n",
        "\tfor r, d, f in os.walk(path_a):\n",
        "\t\tfor file in f:\n",
        "\t\t\tfilenames.append(file)\n",
        "\timages = []\n",
        "\tminSizeX = None\n",
        "\tminSizeY = None\n",
        "\n",
        "\tfor filename in filenames:\n",
        "\t\tf_a = os.path.join(path_a, filename)\n",
        "\t\tim_a = cv2.imread(f_a)\n",
        "\t\tif minSizeX != None:\n",
        "\t\t\tminSizeX = min(minSizeX,im_a.shape[0])\n",
        "\t\telse:\n",
        "\t\t\tminSizeX = im_a.shape[0]\n",
        "\t\tif minSizeY != None:\n",
        "\t\t\tminSizeY = min(minSizeY,im_a.shape[1])\t\t\t\n",
        "\t\telse:\n",
        "\t\t\tminSizeY = im_a.shape[1]\n",
        "\tprint(minSizeX,minSizeY)\n",
        "\tfor filename in filenames:\n",
        "\t\tf_a = os.path.join(path_a, filename)\n",
        "\t\tf_b = os.path.join(path_b, filename)\n",
        "\t\tim_a = cv2.imread(f_a)\n",
        "\t\tcrop_img = im_a[0:minSizeX, 0:minSizeY]\n",
        "\t\tcv2.imwrite(f_b,crop_img)"
      ],
      "execution_count": 0,
      "outputs": []
    },
    {
      "cell_type": "code",
      "metadata": {
        "id": "Rw3jjiCxIbpH",
        "colab_type": "code",
        "colab": {}
      },
      "source": [
        "def generateCrops():\n",
        "\tpath_a = 'maps_resized'\n",
        "\tpath_b = 'crops_train'\n",
        "\tpath_c = 'crops_test'\n",
        "\texamples = 'examples'\n",
        "\tfilenames = []\n",
        "\tfor r, d, f in os.walk(path_a):\n",
        "\t\tfor file in f:\n",
        "\t\t\tfilenames.append(file)\n",
        "\tcounter = 0\n",
        "\tfor filename in filenames:\n",
        "\t\tprint(filename)\n",
        "\t\tf_a = os.path.join(path_a, filename)\n",
        "\t\tim_a = cv2.imread(f_a)\n",
        "\t\tshape = im_a.shape\n",
        "\t\texamples_counter = 0\n",
        "\t\tfor i in range(0,shape[0]-WIDTH-1,64):\n",
        "\t\t\tfor j in range(0,shape[1]-HEIGHT-1,64):\n",
        "\t\t\t\tpath = path_b\n",
        "\t\t\t\tif not counter%7:\n",
        "\t\t\t\t\tpath = path_c\t\t\t\t\n",
        "\t\t\t\tsubmap = os.path.join(path,str(counter)+\".png\")\n",
        "\t\t\t\tsubmap_image = im_a[i:i+HEIGHT,j:j+WIDTH]\n",
        "\t\t\t\tcv2.imwrite(submap,submap_image)\n",
        "\t\t\t\tif examples_counter < 32:\n",
        "\t\t\t\t\texpath = os.path.join(examples, filename)\n",
        "\t\t\t\t\ttry:\n",
        "\t\t\t\t\t\tif not examples_counter:\n",
        "\t\t\t\t\t\t\tos.mkdir(expath)\n",
        "\t\t\t\t\texcept Exception as e:\n",
        "\t\t\t\t\t\tpass\n",
        "\t\t\t\t\texmap = os.path.join(expath,str(counter)+\".png\")\n",
        "\t\t\t\t\tcv2.imwrite(exmap,submap_image)\n",
        "\t\t\t\t\texamples_counter = examples_counter + 1\n",
        "\t\t\t\tcounter += 1\n",
        "\t\tprint(counter)"
      ],
      "execution_count": 0,
      "outputs": []
    },
    {
      "cell_type": "markdown",
      "metadata": {
        "id": "NnXzMeSGK-um",
        "colab_type": "text"
      },
      "source": [
        "Upload files"
      ]
    },
    {
      "cell_type": "code",
      "metadata": {
        "id": "fsPZThBbTSrU",
        "colab_type": "code",
        "colab": {}
      },
      "source": [
        "!rm -rf MapsExample"
      ],
      "execution_count": 0,
      "outputs": []
    },
    {
      "cell_type": "code",
      "metadata": {
        "id": "Id0mv4FHJfgX",
        "colab_type": "code",
        "outputId": "1d87c9db-8dec-4ac7-b2ab-9af15eb11f58",
        "colab": {
          "base_uri": "https://localhost:8080/",
          "height": 119
        }
      },
      "source": [
        "!git clone https://github.com/AlexEskin/MapsExample.git"
      ],
      "execution_count": 7,
      "outputs": [
        {
          "output_type": "stream",
          "text": [
            "Cloning into 'MapsExample'...\n",
            "remote: Enumerating objects: 55, done.\u001b[K\n",
            "remote: Counting objects:   1% (1/55)\u001b[K\rremote: Counting objects:   3% (2/55)\u001b[K\rremote: Counting objects:   5% (3/55)\u001b[K\rremote: Counting objects:   7% (4/55)\u001b[K\rremote: Counting objects:   9% (5/55)\u001b[K\rremote: Counting objects:  10% (6/55)\u001b[K\rremote: Counting objects:  12% (7/55)\u001b[K\rremote: Counting objects:  14% (8/55)\u001b[K\rremote: Counting objects:  16% (9/55)\u001b[K\rremote: Counting objects:  18% (10/55)\u001b[K\rremote: Counting objects:  20% (11/55)\u001b[K\rremote: Counting objects:  21% (12/55)\u001b[K\rremote: Counting objects:  23% (13/55)\u001b[K\rremote: Counting objects:  25% (14/55)\u001b[K\rremote: Counting objects:  27% (15/55)\u001b[K\rremote: Counting objects:  29% (16/55)\u001b[K\rremote: Counting objects:  30% (17/55)\u001b[K\rremote: Counting objects:  32% (18/55)\u001b[K\rremote: Counting objects:  34% (19/55)\u001b[K\rremote: Counting objects:  36% (20/55)\u001b[K\rremote: Counting objects:  38% (21/55)\u001b[K\rremote: Counting objects:  40% (22/55)\u001b[K\rremote: Counting objects:  41% (23/55)\u001b[K\rremote: Counting objects:  43% (24/55)\u001b[K\rremote: Counting objects:  45% (25/55)\u001b[K\rremote: Counting objects:  47% (26/55)\u001b[K\rremote: Counting objects:  49% (27/55)\u001b[K\rremote: Counting objects:  50% (28/55)\u001b[K\rremote: Counting objects:  52% (29/55)\u001b[K\rremote: Counting objects:  54% (30/55)\u001b[K\rremote: Counting objects:  56% (31/55)\u001b[K\rremote: Counting objects:  58% (32/55)\u001b[K\rremote: Counting objects:  60% (33/55)\u001b[K\rremote: Counting objects:  61% (34/55)\u001b[K\rremote: Counting objects:  63% (35/55)\u001b[K\rremote: Counting objects:  65% (36/55)\u001b[K\rremote: Counting objects:  67% (37/55)\u001b[K\rremote: Counting objects:  69% (38/55)\u001b[K\rremote: Counting objects:  70% (39/55)\u001b[K\rremote: Counting objects:  72% (40/55)\u001b[K\rremote: Counting objects:  74% (41/55)\u001b[K\rremote: Counting objects:  76% (42/55)\u001b[K\rremote: Counting objects:  78% (43/55)\u001b[K\rremote: Counting objects:  80% (44/55)\u001b[K\rremote: Counting objects:  81% (45/55)\u001b[K\rremote: Counting objects:  83% (46/55)\u001b[K\rremote: Counting objects:  85% (47/55)\u001b[K\rremote: Counting objects:  87% (48/55)\u001b[K\rremote: Counting objects:  89% (49/55)\u001b[K\rremote: Counting objects:  90% (50/55)\u001b[K\rremote: Counting objects:  92% (51/55)\u001b[K\rremote: Counting objects:  94% (52/55)\u001b[K\rremote: Counting objects:  96% (53/55)\u001b[K\rremote: Counting objects:  98% (54/55)\u001b[K\rremote: Counting objects: 100% (55/55)\u001b[K\rremote: Counting objects: 100% (55/55), done.\u001b[K\n",
            "remote: Compressing objects: 100% (53/53), done.\u001b[K\n",
            "remote: Total 55 (delta 0), reused 55 (delta 0), pack-reused 0\u001b[K\n",
            "Unpacking objects: 100% (55/55), done.\n"
          ],
          "name": "stdout"
        }
      ]
    },
    {
      "cell_type": "code",
      "metadata": {
        "id": "223H4w2ZTc92",
        "colab_type": "code",
        "colab": {
          "base_uri": "https://localhost:8080/",
          "height": 170
        },
        "outputId": "335ddb19-49ef-4494-e2c8-47f45ba6bcb7"
      },
      "source": [
        "!ls MapsExample"
      ],
      "execution_count": 9,
      "outputs": [
        {
          "output_type": "stream",
          "text": [
            "map_10.png  map_19.png\tmap_27.png  map_35.png\tmap_43.png  map_5.png\n",
            "map_11.png  map_1.png\tmap_28.png  map_36.png\tmap_44.png  map_6.png\n",
            "map_12.png  map_20.png\tmap_29.png  map_37.png\tmap_45.png  map_7.png\n",
            "map_13.png  map_21.png\tmap_2.png   map_38.png\tmap_46.png  map_8.png\n",
            "map_14.png  map_22.png\tmap_30.png  map_39.png\tmap_47.png  map_9.png\n",
            "map_15.png  map_23.png\tmap_31.png  map_3.png\tmap_48.png  README.md\n",
            "map_16.png  map_24.png\tmap_32.png  map_40.png\tmap_49.png\n",
            "map_17.png  map_25.png\tmap_33.png  map_41.png\tmap_4.png\n",
            "map_18.png  map_26.png\tmap_34.png  map_42.png\tmap_50.png\n"
          ],
          "name": "stdout"
        }
      ]
    },
    {
      "cell_type": "code",
      "metadata": {
        "id": "8UkiGIQmThTM",
        "colab_type": "code",
        "colab": {
          "base_uri": "https://localhost:8080/",
          "height": 180
        },
        "outputId": "140f9b35-882b-4a01-f68c-55d0733776f5"
      },
      "source": [
        "resizeImages()\n",
        "generateCrops()"
      ],
      "execution_count": 10,
      "outputs": [
        {
          "output_type": "error",
          "ename": "NameError",
          "evalue": "ignored",
          "traceback": [
            "\u001b[0;31m---------------------------------------------------------------------------\u001b[0m",
            "\u001b[0;31mNameError\u001b[0m                                 Traceback (most recent call last)",
            "\u001b[0;32m<ipython-input-10-b5e6e4952aab>\u001b[0m in \u001b[0;36m<module>\u001b[0;34m()\u001b[0m\n\u001b[0;32m----> 1\u001b[0;31m \u001b[0mresizeImages\u001b[0m\u001b[0;34m(\u001b[0m\u001b[0;34m)\u001b[0m\u001b[0;34m\u001b[0m\u001b[0;34m\u001b[0m\u001b[0m\n\u001b[0m\u001b[1;32m      2\u001b[0m \u001b[0mgenerateCrops\u001b[0m\u001b[0;34m(\u001b[0m\u001b[0;34m)\u001b[0m\u001b[0;34m\u001b[0m\u001b[0;34m\u001b[0m\u001b[0m\n",
            "\u001b[0;31mNameError\u001b[0m: name 'resizeImages' is not defined"
          ]
        }
      ]
    }
  ]
}